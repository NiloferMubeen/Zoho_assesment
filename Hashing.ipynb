{
 "cells": [
  {
   "cell_type": "markdown",
   "metadata": {},
   "source": [
    "# LeetCode Questions - Arrays and Strings (Hashing)"
   ]
  },
  {
   "cell_type": "markdown",
   "metadata": {},
   "source": [
    "## Question 1: Two Sum\n",
    "\n",
    "Given an array of integers nums and an integer target, return indices of the two numbers such that they\n",
    "add up to target.\n",
    "You may assume that each input would have exactly one solution, and you may not use the same\n",
    "element twice.\n",
    "You can return the answer in any order.\n",
    "\n",
    "**Example:** \n",
    "\n",
    "- Input: `nums = [2,7,11,15]`, `target = 9`\n",
    "\n",
    "-Output: `[0,1]`\n",
    "\n",
    "- Explanation: `Because nums[0] + nums[1] == 9, we return [0, 1]`."
   ]
  },
  {
   "cell_type": "code",
   "execution_count": 11,
   "metadata": {},
   "outputs": [],
   "source": [
    "\n",
    "\n",
    "def two_sum(nums,target):\n",
    "\n",
    "    indices = []\n",
    "\n",
    "    for i,val in enumerate(nums):\n",
    "        for j in range(1,len(nums)):\n",
    "            if val + nums[j] == target:\n",
    "                indices.append(i)\n",
    "                indices.append(j)\n",
    "            break\n",
    "    return indices\n"
   ]
  },
  {
   "cell_type": "code",
   "execution_count": 9,
   "metadata": {},
   "outputs": [
    {
     "data": {
      "text/plain": [
       "[0, 1]"
      ]
     },
     "execution_count": 9,
     "metadata": {},
     "output_type": "execute_result"
    }
   ],
   "source": [
    "# Test case 1:\n",
    "#Input: nums = [2,7,11,15], target = 9\n",
    "# Output: [0,1]\n",
    "\n",
    "nums = list(map(int,input().split()))\n",
    "target = int(input())\n",
    "\n",
    "two_sum(nums,target)"
   ]
  },
  {
   "cell_type": "code",
   "execution_count": 12,
   "metadata": {},
   "outputs": [
    {
     "data": {
      "text/plain": [
       "[2, 1]"
      ]
     },
     "execution_count": 12,
     "metadata": {},
     "output_type": "execute_result"
    }
   ],
   "source": [
    "# Test case 2:\n",
    "#Input: nums = [2,7,11,15], target = 18\n",
    "# Output: [1,2] or [2,1]\n",
    "\n",
    "nums = list(map(int,input().split()))\n",
    "target = int(input())\n",
    "\n",
    "two_sum(nums,target)"
   ]
  },
  {
   "cell_type": "markdown",
   "metadata": {},
   "source": [
    "## Question 2: Group Anagrams\n",
    "\n",
    "Given an array of strings strs, group the anagrams together. You can return the answer in any order.\n",
    "An Anagram is a word or phrase formed by rearranging the letters of a different word or phrase,\n",
    "typically using all the original letters exactly once.\n",
    "\n",
    "**Example:**\n",
    "\n",
    "- Input: strs = `[\"eat\",\"tea\",\"tan\",\"ate\",\"nat\",\"bat\"]`\n",
    "\n",
    "- Output: `[[\"bat\"],[\"nat\",\"tan\"],[\"ate\",\"eat\",\"tea\"]]`"
   ]
  },
  {
   "cell_type": "code",
   "execution_count": 29,
   "metadata": {},
   "outputs": [],
   "source": [
    "def group_anagrams(arr):\n",
    "        my_dic = {}\n",
    "        arr1 = []\n",
    "        for i in arr:\n",
    "            arr1.append(\"\".join(sorted(i)))\n",
    "            \n",
    "        for i,val in enumerate(arr1):\n",
    "            my_dic[val] = []\n",
    "            \n",
    "        for i,val in enumerate(arr1):\n",
    "            my_dic[val].append(arr[i])\n",
    "            \n",
    "        result = []\n",
    "        for i in my_dic.values():\n",
    "            result.append(i)\n",
    "        result.sort()   \n",
    "        \n",
    "        return result"
   ]
  },
  {
   "cell_type": "code",
   "execution_count": 30,
   "metadata": {},
   "outputs": [
    {
     "data": {
      "text/plain": [
       "[['bat'], ['eat', 'tea', 'ate'], ['tan', 'nat']]"
      ]
     },
     "execution_count": 30,
     "metadata": {},
     "output_type": "execute_result"
    }
   ],
   "source": [
    "# Test case 1:\n",
    "\n",
    "# Input: strs : [\"eat\",\"tea\",\"tan\",\"ate\",\"nat\",\"bat\"]\n",
    "\n",
    "# Output: [[\"bat\"],[\"nat\",\"tan\"],[\"ate\",\"eat\",\"tea\"]]\n",
    "\n",
    "arr = list(input().split())\n",
    "\n",
    "group_anagrams(arr)"
   ]
  },
  {
   "cell_type": "code",
   "execution_count": 49,
   "metadata": {},
   "outputs": [
    {
     "data": {
      "text/plain": [
       "[['ear', 'era', 'are'], ['not', 'ton']]"
      ]
     },
     "execution_count": 49,
     "metadata": {},
     "output_type": "execute_result"
    }
   ],
   "source": [
    "# Test case 2:\n",
    "\n",
    "# Input: strs : ['ear','era','not','are','ton']\n",
    "\n",
    "# Output: [[\"not\",\"ton\"],[\"ear\",\"era\",\"are\"]]\n",
    "\n",
    "arr = list(input().split())\n",
    "\n",
    "group_anagrams(arr)"
   ]
  },
  {
   "cell_type": "markdown",
   "metadata": {},
   "source": [
    "## Question 3: Longest Substring Without Repeating Characters\n",
    "\n",
    "Given a string s, find the length of the longest substring without repeating characters.\n",
    "\n",
    "**Example:**\n",
    "\n",
    "- Input: `s = \"abcabcbb\"`\n",
    "- Output: `3`\n",
    "\n",
    "- Explanation: `The answer is \"abc\", with the length of 3.`\n"
   ]
  },
  {
   "cell_type": "code",
   "execution_count": 43,
   "metadata": {},
   "outputs": [],
   "source": [
    "def longest_substring(s):\n",
    "\n",
    "    lengths = []\n",
    "    for i in range(len(s)):\n",
    "        for j in range(1,len(s)+1):\n",
    "            substring  = set(s[i:j])\n",
    "            lengths.append(len(substring))\n",
    "        break\n",
    "\n",
    "    return max(lengths)   \n",
    "        "
   ]
  },
  {
   "cell_type": "code",
   "execution_count": 45,
   "metadata": {},
   "outputs": [
    {
     "data": {
      "text/plain": [
       "3"
      ]
     },
     "execution_count": 45,
     "metadata": {},
     "output_type": "execute_result"
    }
   ],
   "source": [
    "# Test case 1:\n",
    "# Input: `s = \"abcabcbb\"`\n",
    "# Output: `3`\n",
    "s = input()\n",
    "longest_substring(s)"
   ]
  },
  {
   "cell_type": "code",
   "execution_count": 46,
   "metadata": {},
   "outputs": [
    {
     "data": {
      "text/plain": [
       "1"
      ]
     },
     "execution_count": 46,
     "metadata": {},
     "output_type": "execute_result"
    }
   ],
   "source": [
    "# Test case 2:\n",
    "# Input: s = aaa\n",
    "# Output: 1\n",
    "s = input()\n",
    "longest_substring(s)"
   ]
  },
  {
   "cell_type": "code",
   "execution_count": 47,
   "metadata": {},
   "outputs": [
    {
     "data": {
      "text/plain": [
       "5"
      ]
     },
     "execution_count": 47,
     "metadata": {},
     "output_type": "execute_result"
    }
   ],
   "source": [
    "# Test case 3:\n",
    "# Input: s = abcde\n",
    "# Output: 5\n",
    "s = input()\n",
    "longest_substring(s)"
   ]
  },
  {
   "cell_type": "markdown",
   "metadata": {},
   "source": [
    "## Question 4: Top K Frequent Elements\n",
    "\n",
    "Given an integer array nums and an integer k, return the k most frequent elements. You may return the\n",
    "answer in any order.\n",
    "\n",
    "**Example:**\n",
    "\n",
    "- Input: `nums = [1,1,1,2,2,3], k = 2`\n",
    "- Output: `[1,2]`\n"
   ]
  },
  {
   "cell_type": "code",
   "execution_count": 51,
   "metadata": {},
   "outputs": [],
   "source": [
    "def frequent_elements(nums,k):\n",
    "    num_dic = {}\n",
    "\n",
    "    for i in nums:\n",
    "        num_dic[i] = nums.count(i)\n",
    "        \n",
    "    final = [key for key,val in num_dic.items() if val >= k]\n",
    "\n",
    "    return final"
   ]
  },
  {
   "cell_type": "code",
   "execution_count": 52,
   "metadata": {},
   "outputs": [
    {
     "data": {
      "text/plain": [
       "[1, 2]"
      ]
     },
     "execution_count": 52,
     "metadata": {},
     "output_type": "execute_result"
    }
   ],
   "source": [
    "#Test case 1:\n",
    "# Input: nums = [1,1,1,2,2,3], k = 2\n",
    "# Output: [1,2]\n",
    "\n",
    "nums = list(map(int,input().split()))\n",
    "\n",
    "k = int(input())\n",
    "\n",
    "frequent_elements(nums,k)"
   ]
  },
  {
   "cell_type": "code",
   "execution_count": 53,
   "metadata": {},
   "outputs": [
    {
     "data": {
      "text/plain": [
       "[1, 3]"
      ]
     },
     "execution_count": 53,
     "metadata": {},
     "output_type": "execute_result"
    }
   ],
   "source": [
    "#Test case 2:\n",
    "# Input: nums = [1,1,1,2,2,3,3,3,3], k = 3\n",
    "# Output: [1,3]\n",
    "\n",
    "nums = list(map(int,input().split()))\n",
    "\n",
    "k = int(input())\n",
    "\n",
    "frequent_elements(nums,k)"
   ]
  },
  {
   "cell_type": "markdown",
   "metadata": {},
   "source": [
    "## Question 5: Valid Anagram\n",
    "\n",
    "Given two strings s and t, return true if t is an anagram of s, and false otherwise.\n",
    "\n",
    "**Example:1**\n",
    "\n",
    "- Input: `s = \"anagram\", t = \"nagaram\"`\n",
    "- Output:`true`\n",
    "\n",
    "**Example:1**\n",
    "\n",
    "- Input: `s = \"rat\", t = \"car\"`\n",
    "- Output: `false`"
   ]
  },
  {
   "cell_type": "code",
   "execution_count": 63,
   "metadata": {},
   "outputs": [],
   "source": [
    "def is_anagram(s,t):\n",
    "    ls,lt = list(s),list(t)\n",
    "    \n",
    "        \n",
    "    ls.sort()\n",
    "    lt.sort()\n",
    "    if ls == lt:\n",
    "        return True\n",
    "    else:\n",
    "        return False"
   ]
  },
  {
   "cell_type": "code",
   "execution_count": 55,
   "metadata": {},
   "outputs": [
    {
     "data": {
      "text/plain": [
       "True"
      ]
     },
     "execution_count": 55,
     "metadata": {},
     "output_type": "execute_result"
    }
   ],
   "source": [
    "# Test case 1:\n",
    "# Input: s = \"anagram\", t = \"nagaram\"\n",
    "# Output:true\n",
    "\n",
    "s,t = input().split()\n",
    "\n",
    "is_anagram(s,t)\n"
   ]
  },
  {
   "cell_type": "code",
   "execution_count": 64,
   "metadata": {},
   "outputs": [
    {
     "data": {
      "text/plain": [
       "False"
      ]
     },
     "execution_count": 64,
     "metadata": {},
     "output_type": "execute_result"
    }
   ],
   "source": [
    "# Test case 2:\n",
    "# Input: s = \"rat\", t = \"car\"\n",
    "# Output:False\n",
    "s,t = input().split()\n",
    "\n",
    "is_anagram(s,t)"
   ]
  },
  {
   "cell_type": "code",
   "execution_count": 65,
   "metadata": {},
   "outputs": [
    {
     "data": {
      "text/plain": [
       "True"
      ]
     },
     "execution_count": 65,
     "metadata": {},
     "output_type": "execute_result"
    }
   ],
   "source": [
    "# Test case 3:\n",
    "# Input: s = \"car\", t = \"arc\"\n",
    "# Output:true\n",
    "\n",
    "s,t = input().split()\n",
    "\n",
    "is_anagram(s,t)"
   ]
  }
 ],
 "metadata": {
  "kernelspec": {
   "display_name": "Python 3",
   "language": "python",
   "name": "python3"
  },
  "language_info": {
   "codemirror_mode": {
    "name": "ipython",
    "version": 3
   },
   "file_extension": ".py",
   "mimetype": "text/x-python",
   "name": "python",
   "nbconvert_exporter": "python",
   "pygments_lexer": "ipython3",
   "version": "3.10.0"
  }
 },
 "nbformat": 4,
 "nbformat_minor": 2
}
