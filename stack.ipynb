{
 "cells": [
  {
   "cell_type": "markdown",
   "metadata": {},
   "source": [
    "# Stack Interview Questions Assignment"
   ]
  },
  {
   "cell_type": "markdown",
   "metadata": {},
   "source": [
    "## Question 1. Evaluate Reverse Polish Notation\n",
    "\n",
    "Evaluate the value of an arithmetic expression in Reverse Polish Notation (RPN). Valid operators are +, -, *, and /. Each\n",
    "operand may be an integer or another expression. Note that division between two integers should truncate toward zero.\n",
    "Input:\n",
    "- An array of strings tokens where tokens[i] is a valid operand or operator.\n",
    "Output:\n",
    "- Return the value of the arithmetic expression as an integer.\n",
    "\n",
    "**Example 1:**\n",
    "\n",
    "- Input: `[\"2\", \"1\", \"+\", \"3\", \"*\"]`\n",
    "- Output: `9`\n",
    "- Explanation: ((2 + 1) * 3) = 9\n",
    "\n",
    "**Example 2:**\n",
    "\n",
    "- Input: `[\"4\", \"13\", \"5\", \"/\", \"+\"]`\n",
    "- Output: `6`\n",
    "- Explanation: (4 + (13 / 5)) = 6\n",
    "\n",
    "**Example 3:**\n",
    "\n",
    "- Input: `[\"10\", \"6\", \"9\", \"3\", \"+\", \"-11\", \"*\", \"/\", \"*\", \"17\", \"+\", \"5\", \"+\"]`\n",
    "- Output: `22`\n",
    "- Explanation: \n",
    " ((10 * (6 / ((9 + 3) * -11))) + 17) + 5\n",
    "= ((10 * (6 / (12 * -11))) + 17) + 5\n",
    "= ((10 * (6 / -132)) + 17) + 5\n",
    "= ((10 * 0) + 17) + 5\n",
    "= (0 + 17) + 5\n",
    "= 22"
   ]
  },
  {
   "cell_type": "code",
   "execution_count": 54,
   "metadata": {},
   "outputs": [],
   "source": [
    "class Stack:\n",
    "    def __init__(self):\n",
    "        self.expression = []\n",
    "        \n",
    "    def push(self,value):\n",
    "        self.expression.append(value)\n",
    "    \n",
    "    def peek(self):\n",
    "        value = self.expression.pop()\n",
    "        return value\n",
    "    \n",
    "        \n",
    "     \n",
    "def calculate(operand1,operand2,operator):\n",
    "    if operator == '+':\n",
    "        return operand1 + operand2\n",
    "    if operator == '-':\n",
    "        return operand1 - operand2\n",
    "    if operator == '*':\n",
    "        return operand1 * operand2\n",
    "    if operator == '/':\n",
    "        return operand1 /operand2\n",
    "    \n",
    "\n",
    "class Solution:\n",
    "    def postfix_evaluation(self,expression):\n",
    "                stack = Stack()\n",
    "\n",
    "                for i in expression:\n",
    "                    if i[0] == '-':\n",
    "                        stack.push(int(i))\n",
    "                    elif i.isdigit():\n",
    "                            stack.push(int(i))\n",
    "                    else:\n",
    "                                operand2 = stack.peek()\n",
    "                                operand1 = stack.peek()\n",
    "                                operator = i\n",
    "                                result = calculate(operand1,operand2,operator)\n",
    "                                stack.push(int(result))\n",
    "                return stack.expression\n",
    "\n",
    "solution = Solution()\n",
    "    "
   ]
  },
  {
   "cell_type": "code",
   "execution_count": 55,
   "metadata": {},
   "outputs": [
    {
     "name": "stdout",
     "output_type": "stream",
     "text": [
      "9\n"
     ]
    }
   ],
   "source": [
    "# Test case 1:\n",
    "expression = [\"2\", \"1\", \"+\", \"3\", \"*\"]\n",
    "print(*solution.postfix_evaluation(expression))"
   ]
  },
  {
   "cell_type": "code",
   "execution_count": 56,
   "metadata": {},
   "outputs": [
    {
     "name": "stdout",
     "output_type": "stream",
     "text": [
      "6\n"
     ]
    }
   ],
   "source": [
    "# Test case 2:\n",
    "expression = [\"4\", \"13\", \"5\", \"/\", \"+\"]\n",
    "print(*solution.postfix_evaluation(expression))"
   ]
  },
  {
   "cell_type": "code",
   "execution_count": 57,
   "metadata": {},
   "outputs": [
    {
     "name": "stdout",
     "output_type": "stream",
     "text": [
      "22\n"
     ]
    }
   ],
   "source": [
    "# Test case 3:\n",
    "expression = [\"10\", \"6\", \"9\", \"3\", \"+\", \"-11\", \"*\", \"/\", \"*\", \"17\", \"+\", \"5\", \"+\"]\n",
    "print(*solution.postfix_evaluation(expression))"
   ]
  },
  {
   "cell_type": "markdown",
   "metadata": {},
   "source": [
    "## Question 2. Min Stack\n",
    "\n",
    "Design a stack that supports push, pop, top, and retrieving the minimum element in constant time.\n",
    "Implement the MinStack class:\n",
    "- MinStack(): initializes the stack object.\n",
    "- void push(int val): pushes the element val onto the stack.\n",
    "- void pop(): removes the element on the top of the stack.\n",
    "- int top(): gets the top element of the stack.\n",
    "- int getMin(): retrieves the minimum element in the stack.\n",
    "\n",
    "**Example 1:**\n",
    "\n",
    "- MinStack minStack = new MinStack();\n",
    "\n",
    "- minStack.push(-2);\n",
    "\n",
    "- minStack.push(0);\n",
    "\n",
    "- minStack.push(-3);\n",
    "\n",
    "- minStack.getMin(); // return -3\n",
    "\n",
    "- minStack.pop();\n",
    "\n",
    "- minStack.top(); // return 0\n",
    "\n",
    "- minStack.getMin(); // return -2"
   ]
  },
  {
   "cell_type": "code",
   "execution_count": 63,
   "metadata": {},
   "outputs": [],
   "source": [
    "class MinStack:\n",
    "    def __init__(self):\n",
    "        self.list = []\n",
    "    \n",
    "    def push(self,value):\n",
    "        self.list.append(value)\n",
    "        \n",
    "    def pop(self):\n",
    "        self.list.pop()\n",
    "        \n",
    "    def top(self):\n",
    "        top_val = self.list.pop()\n",
    "        return top_val\n",
    "    \n",
    "    def get_min(self):\n",
    "        small = self.list[0]\n",
    "        \n",
    "        for i in range(1,len(self.list)):\n",
    "            if i < small:\n",
    "                small = i\n",
    "        return small\n",
    "    \n",
    "minStack  =MinStack()"
   ]
  },
  {
   "cell_type": "code",
   "execution_count": 64,
   "metadata": {},
   "outputs": [
    {
     "name": "stdout",
     "output_type": "stream",
     "text": [
      "[-2, 0, -3]\n"
     ]
    }
   ],
   "source": [
    "minStack.push(-2)\n",
    "minStack.push(0)\n",
    "minStack.push(-3)\n",
    "\n",
    "print(minStack.list)\n"
   ]
  },
  {
   "cell_type": "code",
   "execution_count": 65,
   "metadata": {},
   "outputs": [
    {
     "data": {
      "text/plain": [
       "-2"
      ]
     },
     "execution_count": 65,
     "metadata": {},
     "output_type": "execute_result"
    }
   ],
   "source": [
    "minStack.get_min()"
   ]
  },
  {
   "cell_type": "code",
   "execution_count": 66,
   "metadata": {},
   "outputs": [
    {
     "data": {
      "text/plain": [
       "0"
      ]
     },
     "execution_count": 66,
     "metadata": {},
     "output_type": "execute_result"
    }
   ],
   "source": [
    "minStack.pop()\n",
    "minStack.top()"
   ]
  },
  {
   "cell_type": "code",
   "execution_count": 67,
   "metadata": {},
   "outputs": [
    {
     "data": {
      "text/plain": [
       "-2"
      ]
     },
     "execution_count": 67,
     "metadata": {},
     "output_type": "execute_result"
    }
   ],
   "source": [
    "minStack.get_min()"
   ]
  },
  {
   "cell_type": "markdown",
   "metadata": {},
   "source": [
    "## Question 3. Daily Temperatures\n",
    "\n",
    "Given a list of daily temperatures T, return a list such that, for each day in the input, tells you how many days you would\n",
    "have to wait until a warmer temperature. If there is no future day for which this is possible, put 0 instead.\n",
    "Input:\n",
    "- An array of integers T representing the daily temperatures.\n",
    "Output:\n",
    "- Return an array of integers, where the ith element is the number of days you have to wait until a warmer temperature.\n",
    "If there is no future day for which this is possible, put 0 instead.\n",
    "\n",
    "**Example 1:**\n",
    "- Input: `[73, 74, 75, 71, 69, 72, 76, 73]`\n",
    "- Output: `[1, 1, 4, 2, 1, 1, 0, 0]`"
   ]
  },
  {
   "cell_type": "code",
   "execution_count": 32,
   "metadata": {},
   "outputs": [
    {
     "name": "stdout",
     "output_type": "stream",
     "text": [
      "[1, 1, 4, 2, 1, 1, 0, 0]\n"
     ]
    }
   ],
   "source": [
    "class Stack:\n",
    "    def __init__(self):\n",
    "        self.temperatures = []\n",
    "        \n",
    "    def push(self,value):\n",
    "        self.temperatures.append(value)\n",
    "    \n",
    "    def peek(self):\n",
    "        val  = self.temperatures.pop()\n",
    "        return val\n",
    "\n",
    "\n",
    "temperatures = [73, 74, 75, 71, 69, 72, 76, 73]\n",
    "my_stack = Stack()\n",
    "\n",
    "for temp in temperatures:\n",
    "        my_stack.push(temp)\n",
    "            \n",
    "def warm_temperature(index):\n",
    "      \n",
    "        first = my_stack.temperatures[index]\n",
    "        subarr = my_stack.temperatures[index+1:]\n",
    "        \n",
    "        for i,val in enumerate(subarr,1):\n",
    "            if val > first:\n",
    "                return i\n",
    "            else:\n",
    "                continue\n",
    "        return 0\n",
    "    \n",
    "days = []\n",
    "for i,_ in enumerate(my_stack.temperatures):\n",
    "            days.append(warm_temperature(i))  \n",
    "print(days) \n"
   ]
  }
 ],
 "metadata": {
  "kernelspec": {
   "display_name": "Python 3",
   "language": "python",
   "name": "python3"
  },
  "language_info": {
   "codemirror_mode": {
    "name": "ipython",
    "version": 3
   },
   "file_extension": ".py",
   "mimetype": "text/x-python",
   "name": "python",
   "nbconvert_exporter": "python",
   "pygments_lexer": "ipython3",
   "version": "3.10.0"
  }
 },
 "nbformat": 4,
 "nbformat_minor": 2
}
