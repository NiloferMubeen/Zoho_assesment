{
 "cells": [
  {
   "cell_type": "markdown",
   "metadata": {},
   "source": [
    "#  Linked List\n"
   ]
  },
  {
   "cell_type": "markdown",
   "metadata": {},
   "source": [
    "## Question 1. Remove Nth Node From End of List\n",
    "\n",
    "Given the head of a linked list, remove the nth node from the end of the list and return its head.\n",
    "Input Description:\n",
    "- head: The head of a singly linked list.\n",
    "- n: An integer representing the position from the end of the list.\n",
    "Output Description:\n",
    "- The head of the modified linked list.\n",
    "Constraints:\n",
    "- The number of nodes in the list is sz.\n",
    "- 1 <= sz <= 30\n",
    "- 0 <= Node.val <= 100\n",
    "- 1 <= n <= sz\n",
    "\n",
    "**Example 1:**\n",
    "\n",
    "- Input: head = `[1,2,3,4,5], n = 2`\n",
    "- Output: `[1,2,3,5]`\n",
    "- Explanation: The second node from the end is 4, so we remove it.\n",
    "\n",
    "**Example 2:**\n",
    "\n",
    "- Input: `head = [1], n = 1`\n",
    "- Output: `[]`\n",
    "- Explanation: The first node from the end is 1, so we remove it.\n",
    "\n",
    "**Example 3:**\n",
    "\n",
    "- Input: head = `[1,2], n = 1`\n",
    "- Output: `[1]`\n",
    "- Explanation: The second node from the end is 2, so we remove it."
   ]
  },
  {
   "cell_type": "code",
   "execution_count": 50,
   "metadata": {},
   "outputs": [],
   "source": [
    "class Node:\n",
    "    def __init__(self,value):\n",
    "        self.value = value\n",
    "        self.next = None\n",
    "    \n",
    "class LinkedList:\n",
    "    def __init__(self):\n",
    "        self.head = None\n",
    "        self.tail = None\n",
    "        self.length = 0\n",
    "        \n",
    "    def append(self,value):\n",
    "        new_node = Node(value)\n",
    "        if self.head == None:\n",
    "            self.head = new_node\n",
    "            self.tail = new_node\n",
    "        else:\n",
    "            self.tail.next = new_node\n",
    "            self.tail = new_node\n",
    "        self.length += 1\n",
    "           \n",
    "        \n",
    "    def nth_fromlast(self,n):\n",
    "        rem = None\n",
    "        prev = None\n",
    "        temp = self.head\n",
    "        \n",
    "        if self.length == n:\n",
    "            self.head = None\n",
    "            self.tail = None\n",
    "        else:       \n",
    "            for _ in range(0,self.length - n):\n",
    "                prev = temp\n",
    "                temp = temp.next\n",
    "            rem = temp\n",
    "            prev.next = rem.next\n",
    "            rem.next = None\n",
    "        \n",
    "    \n",
    "    def print_list(self):\n",
    "        final = []\n",
    "        temp = self.head\n",
    "        while temp:\n",
    "            final.append(temp.value)  \n",
    "            temp = temp.next\n",
    "        return final\n",
    "        \n",
    "my_list = LinkedList()\n",
    "    "
   ]
  },
  {
   "cell_type": "code",
   "execution_count": 47,
   "metadata": {},
   "outputs": [
    {
     "name": "stdout",
     "output_type": "stream",
     "text": [
      "Original List:\n",
      "[1, 2, 3, 4, 5]\n",
      "\n",
      "After removing the {n} node:\n"
     ]
    },
    {
     "data": {
      "text/plain": [
       "[1, 2, 3, 5]"
      ]
     },
     "execution_count": 47,
     "metadata": {},
     "output_type": "execute_result"
    }
   ],
   "source": [
    "# Test case 1:\n",
    "arr = [1,2,3,4,5]\n",
    "n = 2\n",
    "\n",
    "for i in arr:\n",
    "    my_list.append(i)\n",
    "\n",
    "print(\"Original List:\")\n",
    "\n",
    "print(my_list.print_list())\n",
    "\n",
    "print()\n",
    "\n",
    "print(\"After removing the {n} node:\")\n",
    "my_list.nth_fromlast(n)\n",
    "my_list.print_list()\n"
   ]
  },
  {
   "cell_type": "code",
   "execution_count": 49,
   "metadata": {},
   "outputs": [
    {
     "name": "stdout",
     "output_type": "stream",
     "text": [
      "Original List:\n",
      "[1]\n",
      "\n",
      "After removing the {n} node:\n"
     ]
    },
    {
     "data": {
      "text/plain": [
       "[]"
      ]
     },
     "execution_count": 49,
     "metadata": {},
     "output_type": "execute_result"
    }
   ],
   "source": [
    "# Test case 2:\n",
    "arr = [1]\n",
    "n = 1\n",
    "\n",
    "for i in arr:\n",
    "    my_list.append(i)\n",
    "\n",
    "print(\"Original List:\")\n",
    "\n",
    "print(my_list.print_list())\n",
    "\n",
    "print()\n",
    "\n",
    "print(\"After removing the {n} node:\")\n",
    "my_list.nth_fromlast(n)\n",
    "my_list.print_list()"
   ]
  },
  {
   "cell_type": "code",
   "execution_count": 51,
   "metadata": {},
   "outputs": [
    {
     "name": "stdout",
     "output_type": "stream",
     "text": [
      "Original List:\n",
      "[1, 2]\n",
      "\n",
      "After removing the {n} node:\n"
     ]
    },
    {
     "data": {
      "text/plain": [
       "[1]"
      ]
     },
     "execution_count": 51,
     "metadata": {},
     "output_type": "execute_result"
    }
   ],
   "source": [
    "# Test case 3:\n",
    "arr = [1,2]\n",
    "n = 1\n",
    "\n",
    "for i in arr:\n",
    "    my_list.append(i)\n",
    "\n",
    "print(\"Original List:\")\n",
    "\n",
    "print(my_list.print_list())\n",
    "\n",
    "print()\n",
    "\n",
    "print(\"After removing the {n} node:\")\n",
    "my_list.nth_fromlast(n)\n",
    "my_list.print_list()"
   ]
  },
  {
   "cell_type": "markdown",
   "metadata": {},
   "source": [
    "## Question 2. Reverse Linked List\n",
    "\n",
    "Reverse a singly linked list.\n",
    "Input Description:\n",
    "- head: The head of a singly linked list.\n",
    "Output Description:\n",
    "- The head of the reversed linked list.\n",
    "Constraints:\n",
    "- The number of nodes in the list is sz.\n",
    "- 1 <= sz <= 5000\n",
    "- -5000 <= Node.val <= 5000\n",
    "\n",
    "**Example 1:**\n",
    "\n",
    "Input: head = `[1,2,3,4,5]`\n",
    "Output: [5,4,3,2,1]\n",
    "\n",
    "**Example 2:**\n",
    "\n",
    "Input: head = `[1,2]`\n",
    "Output: `[2,1]`\n",
    "\n",
    "**Example 3:**\n",
    "\n",
    "Input: head = `[]`\n",
    "Output: `[]`\n"
   ]
  },
  {
   "cell_type": "code",
   "execution_count": 67,
   "metadata": {},
   "outputs": [],
   "source": [
    "class Node:\n",
    "    def __init__(self,value):\n",
    "        self.value = value\n",
    "        self.next = None\n",
    "    \n",
    "class LinkedList:\n",
    "    def __init__(self):\n",
    "        self.head = None\n",
    "        self.tail = None\n",
    "        self.length = 0\n",
    "        \n",
    "    def append(self,value):\n",
    "        new_node = Node(value)\n",
    "        if self.head == None:\n",
    "            self.head = new_node\n",
    "            self.tail = new_node\n",
    "        else:\n",
    "            self.tail.next = new_node\n",
    "            self.tail = new_node\n",
    "        self.length += 1\n",
    "           \n",
    "        \n",
    "    def reverse_list(self):\n",
    "        if self.length == 0:\n",
    "            return False\n",
    "        else:\n",
    "            temp = self.head\n",
    "            self.head = self.tail\n",
    "            self.tail = temp\n",
    "            after = temp.next\n",
    "            before = None\n",
    "            \n",
    "            for _ in range(self.length):\n",
    "                after = temp.next\n",
    "                temp.next = before\n",
    "                before = temp\n",
    "                temp = after\n",
    "    \n",
    "    def print_list(self):\n",
    "        final = []\n",
    "        temp = self.head\n",
    "        while temp:\n",
    "            final.append(temp.value)  \n",
    "            temp = temp.next\n",
    "        return final\n",
    "        "
   ]
  },
  {
   "cell_type": "code",
   "execution_count": 64,
   "metadata": {},
   "outputs": [
    {
     "name": "stdout",
     "output_type": "stream",
     "text": [
      "Original List:\n",
      "[1, 2, 3, 4, 5]\n",
      "\n",
      "Reversed List:\n"
     ]
    },
    {
     "data": {
      "text/plain": [
       "[5, 4, 3, 2, 1]"
      ]
     },
     "execution_count": 64,
     "metadata": {},
     "output_type": "execute_result"
    }
   ],
   "source": [
    "# Test case 1:\n",
    "\n",
    "input1 = [1,2,3,4,5]\n",
    "output = [5,4,3,2,1]\n",
    "\n",
    "my_list = LinkedList()\n",
    "\n",
    "for i in input1:\n",
    "   my_list.append(i)\n",
    "   \n",
    "print('Original List:') \n",
    "print(my_list.print_list())\n",
    "print()\n",
    "print(\"Reversed List:\")\n",
    "my_list.reverse_list()\n",
    "my_list.print_list()"
   ]
  },
  {
   "cell_type": "code",
   "execution_count": 65,
   "metadata": {},
   "outputs": [
    {
     "name": "stdout",
     "output_type": "stream",
     "text": [
      "Original List:\n",
      "[1, 2]\n",
      "\n",
      "Reversed List:\n"
     ]
    },
    {
     "data": {
      "text/plain": [
       "[2, 1]"
      ]
     },
     "execution_count": 65,
     "metadata": {},
     "output_type": "execute_result"
    }
   ],
   "source": [
    "# Test case 2:\n",
    "\n",
    "input1 = [1,2]\n",
    "output = [2,1]\n",
    "\n",
    "my_list1 = LinkedList()\n",
    "\n",
    "for i in input1:\n",
    "   my_list1.append(i)\n",
    "   \n",
    "print('Original List:') \n",
    "print(my_list1.print_list())\n",
    "print()\n",
    "print(\"Reversed List:\")\n",
    "my_list1.reverse_list()\n",
    "my_list1.print_list()"
   ]
  },
  {
   "cell_type": "code",
   "execution_count": 68,
   "metadata": {},
   "outputs": [
    {
     "name": "stdout",
     "output_type": "stream",
     "text": [
      "Original List:\n",
      "[]\n",
      "\n",
      "Reversed List:\n"
     ]
    },
    {
     "data": {
      "text/plain": [
       "[]"
      ]
     },
     "execution_count": 68,
     "metadata": {},
     "output_type": "execute_result"
    }
   ],
   "source": [
    "# Test case 3:\n",
    "\n",
    "input1 = []\n",
    "output = []\n",
    "\n",
    "my_list3 = LinkedList()\n",
    "\n",
    "for i in input1:\n",
    "   my_list3.append(i)\n",
    "   \n",
    "print('Original List:') \n",
    "print(my_list3.print_list())\n",
    "print()\n",
    "print(\"Reversed List:\")\n",
    "my_list3.reverse_list()\n",
    "my_list3.print_list()"
   ]
  },
  {
   "cell_type": "markdown",
   "metadata": {},
   "source": [
    "## Question 3. Merge Two Sorted Lists\n",
    "\n",
    "Merge two sorted linked lists and return it as a sorted list. The list should be made by splicing\n",
    "together the nodes of the first two lists.\n",
    "Input Description:\n",
    "- list1: The head of the first sorted linked list.\n",
    "- list2: The head of the second sorted linked list.\n",
    "Output Description:\n",
    "- The head of the merged sorted linked list.\n",
    "Constraints:\n",
    "- The number of nodes in both lists is sz.\n",
    "- 0 <= sz <= 50\n",
    "- -100 <= Node.val <= 100\n",
    "- Both list1 and list2 are sorted in non-decreasing order.\n",
    "\n",
    "**Example 1:**\n",
    "\n",
    "- Input: list1 = `[1,2,4]`, list2 = `[1,3,4]`\n",
    "- Output: `[1,1,2,3,4,4]`\n",
    "\n",
    "**Example 2:**\n",
    "\n",
    "- Input: list1 = `[]`, list2 = `[]`\n",
    "- Output: `[]`\n",
    "\n",
    "**Example 3:**\n",
    "\n",
    "Input: list1 = `[]`, list2 = `[0]`\n",
    "Output: `[0]`"
   ]
  },
  {
   "cell_type": "code",
   "execution_count": 75,
   "metadata": {},
   "outputs": [],
   "source": [
    "class Node:\n",
    "    def __init__(self,value):\n",
    "        self.value = value\n",
    "        self.next = None\n",
    "    \n",
    "class LinkedList:\n",
    "    def __init__(self):\n",
    "        self.head = None\n",
    "        self.tail = None\n",
    "        self.length = 0\n",
    "        \n",
    "    def append(self,value):\n",
    "        new_node = Node(value)\n",
    "        if self.head == None:\n",
    "            self.head = new_node\n",
    "            self.tail = new_node\n",
    "        else:\n",
    "            self.tail.next = new_node\n",
    "            self.tail = new_node\n",
    "        self.length += 1\n",
    "        \n",
    "    def merge(self, other_list):\n",
    "        other_head = other_list.head\n",
    "        dummy = Node(0)\n",
    "        current = dummy\n",
    " \n",
    "        while self.head is not None and other_head is not None:\n",
    "            if self.head.value < other_head.value:\n",
    "                current.next = self.head\n",
    "                self.head = self.head.next\n",
    "            else:\n",
    "                current.next = other_head\n",
    "                other_head = other_head.next\n",
    "            current = current.next\n",
    " \n",
    "        if self.head is not None:\n",
    "            current.next = self.head\n",
    "        else:\n",
    "            current.next = other_head\n",
    "            self.tail = other_list.tail\n",
    " \n",
    "        self.head = dummy.next\n",
    "        self.length += other_list.length\n",
    "    \n",
    "    def print_list(self):\n",
    "        final = []\n",
    "        temp = self.head\n",
    "        while temp:\n",
    "            final.append(temp.value)  \n",
    "            temp = temp.next\n",
    "        return final"
   ]
  },
  {
   "cell_type": "code",
   "execution_count": 72,
   "metadata": {},
   "outputs": [
    {
     "name": "stdout",
     "output_type": "stream",
     "text": [
      "List1:\n",
      "[1, 2, 4]\n",
      "\n",
      "List 2:\n",
      "[1, 3, 4]\n",
      "\n",
      "After merging:\n",
      "[1, 1, 2, 3, 4, 4]\n"
     ]
    }
   ],
   "source": [
    "# Test case 1:\n",
    "list1 = [1,2,4] \n",
    "list2 = [1,3,4]\n",
    "output = [1,1,2,3,4,4] \n",
    "\n",
    "l1 = LinkedList()\n",
    "l2 = LinkedList()\n",
    "\n",
    "for i in list1:\n",
    "    l1.append(i)\n",
    "print(\"List1:\")\n",
    "print(l1.print_list())  \n",
    "print()  \n",
    "for i in list2:\n",
    "    l2.append(i)\n",
    "print('List 2:')\n",
    "print(l2.print_list())   \n",
    "l1.merge(l2)\n",
    "\n",
    "print()\n",
    "print(\"After merging:\")\n",
    "print(l1.print_list())\n"
   ]
  },
  {
   "cell_type": "code",
   "execution_count": 74,
   "metadata": {},
   "outputs": [
    {
     "name": "stdout",
     "output_type": "stream",
     "text": [
      "List1:\n",
      "[]\n",
      "\n",
      "List 2:\n",
      "[]\n",
      "\n",
      "After merging:\n",
      "[]\n"
     ]
    }
   ],
   "source": [
    "# Test case 2:\n",
    "list1 = [] \n",
    "list2 = []\n",
    "output = [] \n",
    "\n",
    "l1 = LinkedList()\n",
    "l2 = LinkedList()\n",
    "\n",
    "for i in list1:\n",
    "    l1.append(i)\n",
    "print(\"List1:\")\n",
    "print(l1.print_list())  \n",
    "print()  \n",
    "for i in list2:\n",
    "    l2.append(i)\n",
    "print('List 2:')\n",
    "print(l2.print_list())   \n",
    "l1.merge(l2)\n",
    "\n",
    "print()\n",
    "print(\"After merging:\")\n",
    "print(l1.print_list())"
   ]
  },
  {
   "cell_type": "code",
   "execution_count": 76,
   "metadata": {},
   "outputs": [
    {
     "name": "stdout",
     "output_type": "stream",
     "text": [
      "List1:\n",
      "[]\n",
      "\n",
      "List 2:\n",
      "[0]\n",
      "\n",
      "After merging:\n",
      "[0]\n"
     ]
    }
   ],
   "source": [
    "# Test case 3:\n",
    "list1 = [] \n",
    "list2 = [0]\n",
    "output = [0] \n",
    "\n",
    "l1 = LinkedList()\n",
    "l2 = LinkedList()\n",
    "\n",
    "for i in list1:\n",
    "    l1.append(i)\n",
    "print(\"List1:\")\n",
    "print(l1.print_list())  \n",
    "print()  \n",
    "for i in list2:\n",
    "    l2.append(i)\n",
    "print('List 2:')\n",
    "print(l2.print_list())   \n",
    "l1.merge(l2)\n",
    "\n",
    "print()\n",
    "print(\"After merging:\")\n",
    "print(l1.print_list())"
   ]
  },
  {
   "cell_type": "markdown",
   "metadata": {},
   "source": [
    "# Question 4. Linked List Cycle\n",
    "\n",
    "Given head, the head of a linked list, determine if the linked list has a cycle in it.\n",
    "Input Description:\n",
    "- head: The head of a singly linked list.\n",
    "\n",
    "Output Description:\n",
    "- true if there is a cycle in the linked list, otherwise false.\n",
    "\n",
    "Constraints:\n",
    "- The number of nodes in the list is sz.\n",
    "- 0 <= sz <= 10^4\n",
    "- -10^5 <= Node.val <= 10^5\n",
    "\n",
    "**Example 1:**\n",
    "\n",
    "- Input: head = `[3,2,0,-4]`, pos = `1`\n",
    "- Output: `true`\n",
    "- Explanation: There is a cycle in the linked list, where the tail connects to the 1st node (0-indexed).\n",
    "\n",
    "**Example 2:**\n",
    "\n",
    "- Input: head = `[1,2]`, pos = `0`\n",
    "- Output: `true`\n",
    "- Explanation: There is a cycle in the linked list, where the tail connects to the 0th node.\n",
    "\n",
    "**Example 3:**\n",
    "\n",
    "- Input: head = `[1]`, pos = `-1`\n",
    "- Output: `false`\n",
    "- Explanation: There is no cycle in the linked lis"
   ]
  },
  {
   "cell_type": "code",
   "execution_count": 119,
   "metadata": {},
   "outputs": [],
   "source": [
    "class Node:\n",
    "    def __init__(self,value):\n",
    "        self.value = value\n",
    "        self.next = None\n",
    "    \n",
    "class LinkedList:\n",
    "    def __init__(self):\n",
    "        self.head = None\n",
    "        self.tail = None\n",
    "        self.length = 0\n",
    "        \n",
    "    def append(self,value):\n",
    "        new_node = Node(value)\n",
    "        if self.head == None:\n",
    "            self.head = new_node\n",
    "            self.tail = new_node\n",
    "        else:\n",
    "            self.tail.next = new_node\n",
    "            self.tail = new_node\n",
    "        self.length += 1\n",
    "        \n",
    "    def has_loop(self):\n",
    "        slow = self.head\n",
    "        fast = self.head\n",
    "        while fast and fast.next:\n",
    "            slow = slow.next\n",
    "            fast = fast.next.next\n",
    "            if slow == fast:\n",
    "                return True\n",
    "        return False    "
   ]
  },
  {
   "cell_type": "code",
   "execution_count": 120,
   "metadata": {},
   "outputs": [
    {
     "name": "stdout",
     "output_type": "stream",
     "text": [
      "Has cycle: True\n"
     ]
    }
   ],
   "source": [
    "# Test case 1:\n",
    "\n",
    "head = [3,2,0,-4]\n",
    "pos = 1\n",
    "ll = LinkedList()\n",
    "for i in head:\n",
    "    ll.append(i)\n",
    "ll.tail.next = ll.head.next\n",
    "\n",
    "print('Has cycle:' ,ll.has_loop())\n"
   ]
  },
  {
   "cell_type": "code",
   "execution_count": 121,
   "metadata": {},
   "outputs": [
    {
     "name": "stdout",
     "output_type": "stream",
     "text": [
      "Has cycle: True\n"
     ]
    }
   ],
   "source": [
    "# Test case 2:\n",
    "\n",
    "head = [1,2]\n",
    "pos = 0\n",
    "ll = LinkedList()\n",
    "for i in head:\n",
    "    ll.append(i)\n",
    "ll.tail.next = ll.head\n",
    "\n",
    "print('Has cycle:' ,ll.has_loop())"
   ]
  },
  {
   "cell_type": "code",
   "execution_count": 122,
   "metadata": {},
   "outputs": [
    {
     "name": "stdout",
     "output_type": "stream",
     "text": [
      "Has cycle: False\n"
     ]
    }
   ],
   "source": [
    "# Test case 3:\n",
    "\n",
    "head = [1]\n",
    "pos = -1\n",
    "ll = LinkedList()\n",
    "for i in head:\n",
    "    ll.append(i)\n",
    "\n",
    "print('Has cycle:' ,ll.has_loop())"
   ]
  },
  {
   "cell_type": "markdown",
   "metadata": {},
   "source": [
    "# 5. Add Two Numbers\n",
    "\n",
    "You are given two non-empty linked lists representing two non-negative integers. The digits are\n",
    "stored in reverse order, and each of their nodes contains a single digit. Add the two numbers\n",
    "and return the sum as a linked list.\n",
    "\n",
    "Input Description:\n",
    "- l1: The head of the first linked list.\n",
    "- l2: The head of the second linked list.\n",
    "Output Description:\n",
    "- The head of the linked list representing the sum of the two numbers.\n",
    "Constraints:\n",
    "- The number of nodes in each linked list is sz.\n",
    "- 1 <= sz <= 100\n",
    "- 0 <= Node.val <= 9\n",
    "- It is guaranteed that the list represents a number that does not have leading zeros.\n",
    "\n",
    "**Example 1:**\n",
    "\n",
    "- Input: l1 = `[2,4,3]`, l2 = `[5,6,4]`\n",
    "- Output: `[7,0,8]`\n",
    "- Explanation: 342 + 465 = 807.\n",
    "\n",
    "**Example 2:**\n",
    "\n",
    "- Input: l1 = `[0]`, l2 = `[0]`\n",
    "- Output: `[0]`\n",
    "\n",
    "**Example 3:**\n",
    "\n",
    "- Input: l1 = `[9,9,9,9,9,9,9]`, l2 = `[9,9,9,9]`\n",
    "- Output: `[8,9,9,9,0,0,0,1]`"
   ]
  },
  {
   "cell_type": "code",
   "execution_count": 149,
   "metadata": {},
   "outputs": [],
   "source": [
    "class Node:\n",
    "    def __init__(self,value):\n",
    "        self.value = value\n",
    "        self.next = None\n",
    "    \n",
    "class LinkedList:\n",
    "    def __init__(self):\n",
    "        self.head = None\n",
    "        self.tail = None\n",
    "        self.length = 0\n",
    "        \n",
    "    def append(self,value):\n",
    "        new_node = Node(value)\n",
    "        if self.head == None:\n",
    "            self.head = new_node\n",
    "            self.tail = new_node\n",
    "        else:\n",
    "            self.tail.next = new_node\n",
    "            self.tail = new_node\n",
    "        self.length += 1\n",
    "        \n",
    "    def print_list(self):\n",
    "        final = []\n",
    "        temp = self.head\n",
    "        while temp:\n",
    "            final.append(temp.value)\n",
    "            temp = temp.next\n",
    "        return final\n",
    "    def reverse_list(self):\n",
    "        if self.length == 0:\n",
    "            return False\n",
    "        else:\n",
    "            temp = self.head\n",
    "            self.head = self.tail\n",
    "            self.tail = temp\n",
    "            after = temp.next\n",
    "            before = None\n",
    "            \n",
    "            for _ in range(self.length):\n",
    "                after = temp.next\n",
    "                temp.next = before\n",
    "                before = temp\n",
    "                temp = after\n",
    "    \n",
    "    def two_sum(self,other_list):\n",
    "        new_list = []\n",
    "        \n",
    "        \n",
    "        temp = self.head\n",
    "        temp2 = other_list.head\n",
    "        carry = 0\n",
    "        \n",
    "        while temp:\n",
    "            \n",
    "            result = carry + temp.value  + temp2.value\n",
    "            \n",
    "            sum1 = result % 10\n",
    "            carry = result // 10\n",
    "                       \n",
    "            new_list.append(sum1)\n",
    "            temp = temp.next\n",
    "            temp2 = temp2.next\n",
    "        while temp:\n",
    "            \n",
    "            result = carry + temp.value\n",
    "            sum1 = result % 10\n",
    "            carry = result // 10\n",
    "            \n",
    "            new_list.append(sum1)\n",
    "            temp = temp.next\n",
    "                \n",
    "            "
   ]
  },
  {
   "cell_type": "code",
   "execution_count": 141,
   "metadata": {},
   "outputs": [
    {
     "name": "stdout",
     "output_type": "stream",
     "text": [
      "List1:\n",
      "[3, 4, 2]\n",
      "\n",
      "List2:\n",
      "[4, 6, 5]\n",
      "\n",
      "Sum of 2 lists:\n"
     ]
    },
    {
     "data": {
      "text/plain": [
       "[7, 0, 8]"
      ]
     },
     "execution_count": 141,
     "metadata": {},
     "output_type": "execute_result"
    }
   ],
   "source": [
    "lis1 = [2,4,3]\n",
    "lis2 = [5,6,4]\n",
    "\n",
    "l1 = LinkedList()\n",
    "\n",
    "for i in lis1:\n",
    "    l1.append(i)\n",
    "l1.reverse_list()\n",
    "print('List1:')\n",
    "print(l1.print_list())\n",
    "\n",
    "l2 = LinkedList()\n",
    "\n",
    "for i in lis2:\n",
    "    l2.append(i)\n",
    "l2.reverse_list()\n",
    "print()\n",
    "print('List2:')\n",
    "print(l2.print_list())\n",
    "print()\n",
    "print('Sum of 2 lists:')\n",
    "l1.two_sum(l2)\n"
   ]
  }
 ],
 "metadata": {
  "kernelspec": {
   "display_name": "Python 3",
   "language": "python",
   "name": "python3"
  },
  "language_info": {
   "codemirror_mode": {
    "name": "ipython",
    "version": 3
   },
   "file_extension": ".py",
   "mimetype": "text/x-python",
   "name": "python",
   "nbconvert_exporter": "python",
   "pygments_lexer": "ipython3",
   "version": "3.10.0"
  }
 },
 "nbformat": 4,
 "nbformat_minor": 2
}
