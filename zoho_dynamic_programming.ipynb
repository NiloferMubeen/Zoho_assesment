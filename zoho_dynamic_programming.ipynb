{
 "cells": [
  {
   "cell_type": "markdown",
   "metadata": {},
   "source": [
    "# Question 1\n",
    "\n",
    "Problem Description:\n",
    "You are given an integer array coins representing coins of different denominations and an integer\n",
    "amount representing a total amount of money.\n",
    "Return the fewest number of coins that you need to make up that amount. If that amount of money\n",
    "cannot be made up by any combination of the coins, return -1.\n",
    "You may assume that you have an infinite number of each kind of coin\n",
    "Input Description:\n",
    "An integer array `coins` representing coins of different denominations.\n",
    "An integer `amount` representing a total amount of money.\n",
    "Output Description:\n",
    "The fewest number of coins needed to make up the amount. If the amount cannot be made up,\n",
    "return -1.\n",
    "Examples:\n",
    "\n",
    "**Example 1:**\n",
    "- Input: `coins = [1, 2, 5]`, `amount = 11`\n",
    "- Output: `3`\n",
    "- Explanation: `11 = 5 + 5 + 1`\n",
    "\n",
    "**Example 2:**\n",
    "- Input: `coins = [2]`, `amount = 3`\n",
    "- Output: `-1`\n",
    "\n",
    "**Example 3:**\n",
    "- Input: `coins = [1]`, `amount = 0`\n",
    "- Output: `0`"
   ]
  },
  {
   "cell_type": "code",
   "execution_count": 23,
   "metadata": {},
   "outputs": [],
   "source": [
    "amount = int(input())\n",
    "coins = list(map(int,input().split()))\n",
    "coins2 = []\n",
    "\n",
    "def denomination(arr,amount):\n",
    "    mini = arr[0]\n",
    "    if amount == 0:\n",
    "        return 0\n",
    "    \n",
    "    for i in range(1,len(arr)):\n",
    "        if arr[i] > mini and arr[i] < amount:\n",
    "            mini = arr[i]\n",
    "    coins2.append(mini)\n",
    "    amount = amount - mini\n",
    "    \n",
    "    if amount != 0 and amount > 0:\n",
    "        return denomination(arr,amount)\n",
    "    elif amount == 0:\n",
    "        return len(coins2)\n",
    "    else:\n",
    "        return -1"
   ]
  },
  {
   "cell_type": "code",
   "execution_count": 20,
   "metadata": {},
   "outputs": [
    {
     "name": "stdout",
     "output_type": "stream",
     "text": [
      "3\n"
     ]
    }
   ],
   "source": [
    "# Test case 1\n",
    "# Input: coins = [1, 2, 5]amount = 11` \n",
    "print(denomination(coins,amount))"
   ]
  },
  {
   "cell_type": "code",
   "execution_count": 16,
   "metadata": {},
   "outputs": [
    {
     "name": "stdout",
     "output_type": "stream",
     "text": [
      "-1\n"
     ]
    }
   ],
   "source": [
    "# Test case 2\n",
    "# Input: `coins = [2]`, `amount = 3` \n",
    "print(denomination(coins,amount))"
   ]
  },
  {
   "cell_type": "code",
   "execution_count": 12,
   "metadata": {},
   "outputs": [
    {
     "name": "stdout",
     "output_type": "stream",
     "text": [
      "0\n"
     ]
    }
   ],
   "source": [
    "# Test case 3\n",
    "# Input: `coins = [1]`, `amount = 0` \n",
    "print(denomination(coins,amount))"
   ]
  },
  {
   "cell_type": "code",
   "execution_count": 24,
   "metadata": {},
   "outputs": [
    {
     "name": "stdout",
     "output_type": "stream",
     "text": [
      "-1\n"
     ]
    }
   ],
   "source": [
    "# Test case 4\n",
    "# Input: `coins = [2,30]`, `amount = 53` \n",
    "print(denomination(coins,amount))"
   ]
  },
  {
   "cell_type": "markdown",
   "metadata": {},
   "source": [
    "# Question 2\n",
    "Problem Description:\n",
    "Given a string `s`, return the longest palindromic substring in `s`.\n",
    "Input Description:\n",
    "A string `s`.\n",
    "Output Description:\n",
    "The longest palindromic substring in `s`.\n",
    "Examples:\n",
    "\n",
    "**Example 1:**\n",
    "- Input: `s = \"babad\"`\n",
    "- Output: `\"bab\"`\n",
    "- Explanation: `\"aba\"` is also a valid answer.\n",
    "\n",
    "\n",
    "**Example 2:**\n",
    "- Input: `s = \"cbbd\"`\n",
    "- Output: `\"bb\"`"
   ]
  },
  {
   "cell_type": "code",
   "execution_count": 27,
   "metadata": {},
   "outputs": [],
   "source": [
    "def longest_substring(s):\n",
    "    palindrome = ''\n",
    "    for i in range(len(s)):\n",
    "        for j in range(1,len(s)):\n",
    "            substring = s[i:j]\n",
    "            if substring == substring[::-1]:\n",
    "                if len(palindrome) < len(substring):           \n",
    "                            palindrome = substring\n",
    "    return palindrome\n"
   ]
  },
  {
   "cell_type": "code",
   "execution_count": 30,
   "metadata": {},
   "outputs": [
    {
     "name": "stdout",
     "output_type": "stream",
     "text": [
      "bab\n"
     ]
    }
   ],
   "source": [
    "# Test case 1:\n",
    "#Input: `s = \"babad\", Output: `\"bab\"`\n",
    "print(longest_substring(input()))"
   ]
  },
  {
   "cell_type": "code",
   "execution_count": 31,
   "metadata": {},
   "outputs": [
    {
     "name": "stdout",
     "output_type": "stream",
     "text": [
      "bb\n"
     ]
    }
   ],
   "source": [
    "# Test case 2:\n",
    "#Input: `s = \"cbbd\", Output: `\"bb\"`\n",
    "print(longest_substring(input()))"
   ]
  },
  {
   "cell_type": "markdown",
   "metadata": {},
   "source": [
    "# Question 3\n",
    "\n",
    "Problem Description:\n",
    "For a string sequence, a string word is k-repeating if word concatenated k times is a substring of\n",
    "sequence. The word's maximum k-repeating value is the highest value k where word is k-repeating\n",
    "in sequence. If word is not a substring of sequence, word's maximum k-repeating value is 0.\n",
    "Given strings sequence and word, return the maximum k-repeating value of word in sequence.\n",
    "Input Description:\n",
    "Two strings `sequence` and `word`.\n",
    "Output Description:\n",
    "The maximum k-repeating value of `word` in `sequence`.\n",
    "Examples:\n",
    "\n",
    "**Example 1:**\n",
    "- Input: `sequence = \"ababc\"`, `word = \"ab\"`\n",
    "- Output: `2`\n",
    "- Explanation: `\"abab\"` is a substring in `\"ababc\"`.\n",
    "\n",
    "**Example 2:**\n",
    "- Input: `sequence = \"ababc\"`, `word = \"ba\"`\n",
    "- Output: `1`\n",
    "- Explanation: `\"ba\"` is a substring in `\"ababc\"`. `\"baba\"` is not a substring in `\"ababc\"`.\n",
    "\n",
    "**Example 3:**\n",
    "- Input: `sequence = \"ababc\"`, `word = \"ac\"`\n",
    "- Output: `0`\n",
    "- Explanation: `\"ac\"` is not a substring in `\"ababc\"`.\n"
   ]
  },
  {
   "cell_type": "code",
   "execution_count": 115,
   "metadata": {},
   "outputs": [],
   "source": [
    "sequence = input()\n",
    "word = input()\n",
    "\n",
    "if word in  sequence:\n",
    "            count = sequence.count(word)\n",
    "    \n",
    "def check_substring(sequence,count): \n",
    "    if count == 0:\n",
    "        return 0\n",
    "    else:\n",
    "         substring = count * word\n",
    "         if substring in sequence:\n",
    "            return substring\n",
    "         else:\n",
    "            return check_substring(sequence, count-1)\n",
    "      "
   ]
  },
  {
   "cell_type": "code",
   "execution_count": 117,
   "metadata": {},
   "outputs": [
    {
     "name": "stdout",
     "output_type": "stream",
     "text": [
      "2\n"
     ]
    }
   ],
   "source": [
    "# Test case 1:\n",
    "# Input: `sequence = \"ababc\"`, `word = \"ab\"`\n",
    "# Output: `2`\n",
    "\n",
    "result  = check_substring(sequence,count)\n",
    "\n",
    "if result == 0:\n",
    "    print(0)\n",
    "else:    \n",
    "    print(int(len(result)/len(word)))"
   ]
  },
  {
   "cell_type": "code",
   "execution_count": 118,
   "metadata": {},
   "outputs": [
    {
     "name": "stdout",
     "output_type": "stream",
     "text": [
      "1\n"
     ]
    }
   ],
   "source": [
    "# Test case 2:\n",
    "# Input: `sequence = \"ababc\"`, `word = \"ba\"`\n",
    "# Output: `1`\n",
    "\n",
    "sequence = input()\n",
    "word  =input()\n",
    "result  = check_substring(sequence,count)\n",
    "\n",
    "if result == 0:\n",
    "    print(0)\n",
    "else:    \n",
    "    print(int(len(result)/len(word)))"
   ]
  },
  {
   "cell_type": "code",
   "execution_count": 125,
   "metadata": {},
   "outputs": [
    {
     "name": "stdout",
     "output_type": "stream",
     "text": [
      "0\n"
     ]
    }
   ],
   "source": [
    "# Test case 3:\n",
    "# Input: `sequence = \"ababc\"`, `word = \"ac\"`\n",
    "# Output: `0`\n",
    "\n",
    "sequence = input()\n",
    "word  =input()\n",
    "result  = check_substring(sequence,count)\n",
    "\n",
    "if result == 0:\n",
    "    print(0)\n",
    "else:    \n",
    "    print(int(len(result)/len(word)))\n",
    "    "
   ]
  },
  {
   "cell_type": "markdown",
   "metadata": {},
   "source": [
    "# Question 4\n",
    "\n",
    "Problem Description:\n",
    "Given an integer array `nums`, find the subarray with the largest sum, and return its sum.\n",
    "Input Description:\n",
    "An integer array `nums`.\n",
    "Output Description:\n",
    "The sum of the subarray with the largest sum.\n",
    "Examples:\n",
    "\n",
    "**Example 1:**\n",
    "- Input: `nums = [-2, 1, -3, 4, -1, 2, 1, -5, 4]`\n",
    "- Output: `6`\n",
    "- Explanation: The subarray `[4, -1, 2, 1]` has the largest sum `6`.\n",
    "\n",
    "**Example 2:**\n",
    "- Input: `nums = [1]`\n",
    "- Output: `1`\n",
    "- Explanation: The subarray `[1]` has the largest sum `1`.\n",
    "\n",
    "**Example 3:**\n",
    "- Input: `nums = [5, 4, -1, 7, 8]`\n",
    "- Output: `23`\n",
    "- Explanation: The subarray `[5, 4, -1, 7, 8]` has the largest sum `23`."
   ]
  },
  {
   "cell_type": "code",
   "execution_count": 44,
   "metadata": {},
   "outputs": [],
   "source": [
    "def largest_subarr_sum(nums):\n",
    "    large_sum = 0\n",
    "    if len(nums) == 1:\n",
    "        return nums[0]\n",
    "    else:\n",
    "        for i in range(len(nums)):\n",
    "            for j in range(1,len(nums)+1):\n",
    "                if sum(nums[i:j]) > large_sum:\n",
    "                    large_sum = sum(nums[i:j])\n",
    "        return large_sum"
   ]
  },
  {
   "cell_type": "code",
   "execution_count": 46,
   "metadata": {},
   "outputs": [
    {
     "data": {
      "text/plain": [
       "6"
      ]
     },
     "execution_count": 46,
     "metadata": {},
     "output_type": "execute_result"
    }
   ],
   "source": [
    "# Test case 1:\n",
    "# Input: `nums = [-2, 1, -3, 4, -1, 2, 1, -5, 4]`, Output: `6`\n",
    "\n",
    "largest_subarr_sum(list(map(int,input().split())))"
   ]
  },
  {
   "cell_type": "code",
   "execution_count": 47,
   "metadata": {},
   "outputs": [
    {
     "data": {
      "text/plain": [
       "1"
      ]
     },
     "execution_count": 47,
     "metadata": {},
     "output_type": "execute_result"
    }
   ],
   "source": [
    "# Test case 2:\n",
    "# Input: `nums = nums = [1]`, Output: `1`\n",
    "\n",
    "largest_subarr_sum(list(map(int,input().split())))"
   ]
  },
  {
   "cell_type": "code",
   "execution_count": 45,
   "metadata": {},
   "outputs": [
    {
     "data": {
      "text/plain": [
       "23"
      ]
     },
     "execution_count": 45,
     "metadata": {},
     "output_type": "execute_result"
    }
   ],
   "source": [
    "# Test case 3:\n",
    "# Input: `nums = nums = [5, 4, -1, 7, 8]`, Output: `23`\n",
    "\n",
    "largest_subarr_sum(list(map(int,input().split())))"
   ]
  },
  {
   "cell_type": "markdown",
   "metadata": {},
   "source": [
    "# Question 5\n",
    "\n",
    "Problem Description:\n",
    "You are climbing a staircase. It takes `n` steps to reach the top.\n",
    "Each time you can either climb 1 or 2 steps. In how many distinct ways can you climb to the top?\n",
    "Input Description:\n",
    "An integer `n`.\n",
    "Output Description:\n",
    "The number of distinct ways to climb to the top.\n",
    "Examples:\n",
    "\n",
    "**Example 1:**\n",
    "- Input: `n = 2`\n",
    "- Output: `2`\n",
    "- Explanation: There are two ways to climb to the top.\n",
    "1. 1 step + 1 step\n",
    "2. 2 steps\n",
    "\n",
    "**Example 2:**\n",
    "- Input: `n = 3`\n",
    "- Output: `3`\n",
    "- Explanation: There are three ways to climb to the top.\n",
    "1. 1 step + 1 step + 1 step\n",
    "2. 1 step + 2 steps\n",
    "3. 2 steps + 1 ste"
   ]
  },
  {
   "cell_type": "code",
   "execution_count": 129,
   "metadata": {},
   "outputs": [],
   "source": [
    "def factorial(n):\n",
    "    if n <= 1:\n",
    "        return 1\n",
    "    return n * factorial(n-1)\n"
   ]
  },
  {
   "cell_type": "code",
   "execution_count": 131,
   "metadata": {},
   "outputs": [
    {
     "name": "stdout",
     "output_type": "stream",
     "text": [
      "2\n"
     ]
    }
   ],
   "source": [
    "# Test case 1:\n",
    "# Input: `n = 2`\n",
    "# Output: `2`\n",
    "\n",
    "n =int(input())\n",
    "\n",
    "print( factorial(n-1) + 1)"
   ]
  },
  {
   "cell_type": "code",
   "execution_count": 132,
   "metadata": {},
   "outputs": [
    {
     "name": "stdout",
     "output_type": "stream",
     "text": [
      "3\n"
     ]
    }
   ],
   "source": [
    "# Test case 2:\n",
    "# Input: `n = 3`\n",
    "# Output: `3`\n",
    "n =int(input())\n",
    "\n",
    "print( factorial(n-1) + 1)"
   ]
  }
 ],
 "metadata": {
  "kernelspec": {
   "display_name": "Python 3",
   "language": "python",
   "name": "python3"
  },
  "language_info": {
   "codemirror_mode": {
    "name": "ipython",
    "version": 3
   },
   "file_extension": ".py",
   "mimetype": "text/x-python",
   "name": "python",
   "nbconvert_exporter": "python",
   "pygments_lexer": "ipython3",
   "version": "3.10.0"
  }
 },
 "nbformat": 4,
 "nbformat_minor": 2
}
